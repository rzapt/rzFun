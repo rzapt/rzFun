{
 "cells": [
  {
   "cell_type": "markdown",
   "metadata": {},
   "source": [
    "Following the tkinter Youtube tutorial created by NeuralNine"
   ]
  },
  {
   "cell_type": "code",
   "execution_count": 1,
   "metadata": {},
   "outputs": [],
   "source": [
    "import tkinter as tk\n",
    "from tkinter import messagebox"
   ]
  },
  {
   "cell_type": "markdown",
   "metadata": {},
   "source": [
    "Creating a Basic Interface"
   ]
  },
  {
   "cell_type": "code",
   "execution_count": 2,
   "metadata": {},
   "outputs": [],
   "source": [
    "root = tk.Tk()\n",
    "\n",
    "root.geometry('500x500')\n",
    "root.title('My First GUI')\n",
    "\n",
    "label = tk.Label(root, text='Hello World', font=('Arial',18))\n",
    "label.pack(padx=20, pady=20)\n",
    "\n",
    "textbox = tk.Text(root, height=3, font=('Arial',16))\n",
    "textbox.pack()\n",
    "\n",
    "\"\"\" Entry for one-line text box with no scrolling features. Great for data entry\n",
    "myentry = tk.Entry(root)\n",
    "myentry.pack(padx=20)\n",
    "\"\"\"\n",
    "\n",
    "button = tk.Button(root, text=\"Click Me\", font=('Arial', 18))\n",
    "button.pack(padx=10, pady=10)\n",
    "\n",
    "root.mainloop()"
   ]
  },
  {
   "cell_type": "markdown",
   "metadata": {},
   "source": [
    "Create a Button Frame Layout"
   ]
  },
  {
   "cell_type": "code",
   "execution_count": 3,
   "metadata": {},
   "outputs": [],
   "source": [
    "root = tk.Tk()\n",
    "\n",
    "root.geometry('500x500')\n",
    "root.title('My First GUI')\n",
    "\n",
    "label = tk.Label(root, text='Hello World', font=('Arial',18))\n",
    "label.pack(padx=20, pady=20)\n",
    "\n",
    "textbox = tk.Text(root, height=3, font=('Arial',16))\n",
    "textbox.pack()\n",
    "\n",
    "buttonframe = tk.Frame(root)\n",
    "buttonframe.columnconfigure(0, weight=1) # One line of code for each row in frame\n",
    "buttonframe.columnconfigure(1, weight=1)\n",
    "buttonframe.columnconfigure(2, weight=1)\n",
    "\n",
    "btn1 = tk.Button(buttonframe, text='1', font=('Arial', 18))\n",
    "btn1.grid(row=0, column=0, sticky=tk.W+tk.E)\n",
    "\n",
    "btn2 = tk.Button(buttonframe, text='2', font=('Arial', 18))\n",
    "btn2.grid(row=0, column=1, sticky=tk.W+tk.E)\n",
    "\n",
    "btn3 = tk.Button(buttonframe, text='3', font=('Arial', 18))\n",
    "btn3.grid(row=0, column=2, sticky=tk.W+tk.E)\n",
    "\n",
    "btn4 = tk.Button(buttonframe, text='4', font=('Arial', 18))\n",
    "btn4.grid(row=1, column=0, sticky=tk.W+tk.E)\n",
    "\n",
    "btn5 = tk.Button(buttonframe, text='5', font=('Arial', 18))\n",
    "btn5.grid(row=1, column=1, sticky=tk.W+tk.E)\n",
    "\n",
    "btn6 = tk.Button(buttonframe, text='6', font=('Arial', 18))\n",
    "btn6.grid(row=1, column=2, sticky=tk.W+tk.E)\n",
    "\n",
    "buttonframe.pack(fill='x') #will stretch into the x dimension\n",
    "\n",
    "anotherbtn = tk.Button(root, text='Test')\n",
    "anotherbtn.place(x=400, y=300, height=100, width = 100)\n",
    "root.mainloop()"
   ]
  },
  {
   "cell_type": "markdown",
   "metadata": {},
   "source": [
    "Add functionality to GUI AND add a menu bar"
   ]
  },
  {
   "cell_type": "code",
   "execution_count": 3,
   "metadata": {},
   "outputs": [
    {
     "data": {
      "text/plain": [
       "<__main__.MyGUI at 0x21b71a5c2c0>"
      ]
     },
     "execution_count": 3,
     "metadata": {},
     "output_type": "execute_result"
    }
   ],
   "source": [
    "class MyGUI:\n",
    "\n",
    "    def __init__(self):\n",
    "\n",
    "        self.root = tk.Tk()\n",
    "\n",
    "        # Create a menu bar and add \"close\" command\n",
    "        self.menubar = tk.Menu(self.root)\n",
    "\n",
    "        self.filemenu = tk.Menu(self.menubar, tearoff=0)\n",
    "        self.filemenu.add_command(label='Close', command=self.on_closing)\n",
    "\n",
    "        self.actionmenu = tk.Menu(self.menubar, tearoff=0)\n",
    "        self.actionmenu.add_command(label='Show Message', command=self.show_message)\n",
    "\n",
    "        self.menubar.add_cascade(menu=self.filemenu, label='File')\n",
    "        self.menubar.add_cascade(menu=self.actionmenu, label='Action')\n",
    "\n",
    "        self.root.config(menu=self.menubar)\n",
    "\n",
    "        # Basic text box and label\n",
    "        self.label = tk.Label(self.root, text='Your Message', font=('Arial', 18))\n",
    "        self.label.pack(padx=10, pady=10)\n",
    "\n",
    "        self.textbox = tk.Text(self.root, height=5,  font=('Arial', 16))\n",
    "        self.textbox.bind('<KeyPress>', self.shortcut)\n",
    "        self.textbox.pack(padx=10, pady=10)\n",
    "\n",
    "        # Add a checkbox to show message in gui or console\n",
    "        self.check_state = tk.IntVar()\n",
    "\n",
    "        self.check = tk.Checkbutton(self.root, text='Show Messagebox', font=('Arial', 16), variable=self.check_state)\n",
    "        self.check.pack(padx=10, pady=10)\n",
    "\n",
    "        # Have a button with function \"show message\" as parameter passed in. No parentheses so that the function is passed, not run.\n",
    "        self.button = tk.Button(self.root, text='Show Message', font=('Arial', 18), command=self.show_message)\n",
    "        self.button.pack(padx=10, pady=10)\n",
    "\n",
    "        self.clearbutton = tk.Button(self.root, text='Clear', font=('Arial', 18), command=self.clear)\n",
    "        self.clearbutton.pack(padx=10, pady=10)\n",
    "\n",
    "        # Add event when closing the window\n",
    "        self.root.protocol('WM_DELETE_WINDOW', self.on_closing)\n",
    "        self.root.mainloop()\n",
    "\n",
    "    def show_message(self):\n",
    "        # 0 if not checked, 1 if checked\n",
    "        if self.check_state.get() == 0:\n",
    "            print(self.textbox.get('1.0', tk.END))\n",
    "        else:\n",
    "            messagebox.showinfo(title='Message', message=self.textbox.get('1.0', tk.END))\n",
    "\n",
    "    # Pressing CTRL + ENTER triggers show message based on key symbol\n",
    "    def shortcut(self, event):\n",
    "        if event.state == 12 and event.keysym == 'Return':\n",
    "            self.show_message()\n",
    "\n",
    "    # Function on close\n",
    "    def on_closing(self):\n",
    "        if messagebox.askyesno(title='Quit?', message='Do you really want to quit?'):\n",
    "            self.root.destroy()\n",
    "\n",
    "\n",
    "    def clear(self):\n",
    "        self.textbox.delete('1.0', tk.END)\n",
    "\n",
    "MyGUI()"
   ]
  }
 ],
 "metadata": {
  "kernelspec": {
   "display_name": "venv",
   "language": "python",
   "name": "python3"
  },
  "language_info": {
   "codemirror_mode": {
    "name": "ipython",
    "version": 3
   },
   "file_extension": ".py",
   "mimetype": "text/x-python",
   "name": "python",
   "nbconvert_exporter": "python",
   "pygments_lexer": "ipython3",
   "version": "3.12.0"
  }
 },
 "nbformat": 4,
 "nbformat_minor": 2
}
